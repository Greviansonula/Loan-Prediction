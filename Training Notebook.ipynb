{
 "cells": [
  {
   "cell_type": "code",
   "execution_count": 2,
   "id": "919847db",
   "metadata": {
    "execution": {
     "iopub.execute_input": "2022-02-26T19:53:56.780140Z",
     "iopub.status.busy": "2022-02-26T19:53:56.778959Z",
     "iopub.status.idle": "2022-02-26T19:53:56.787633Z",
     "shell.execute_reply": "2022-02-26T19:53:56.788177Z",
     "shell.execute_reply.started": "2022-02-26T19:50:04.660089Z"
    },
    "papermill": {
     "duration": 0.061079,
     "end_time": "2022-02-26T19:53:56.788448",
     "exception": false,
     "start_time": "2022-02-26T19:53:56.727369",
     "status": "completed"
    },
    "tags": []
   },
   "outputs": [],
   "source": [
    "import pandas as pd\n",
    "import matplotlib.pyplot as py\n",
    "import numpy as np\n",
    "import seaborn as sns\n",
    "import warnings\n",
    "warnings.filterwarnings(\"ignore\")"
   ]
  },
  {
   "cell_type": "code",
   "execution_count": 3,
   "id": "ae11de71",
   "metadata": {
    "execution": {
     "iopub.execute_input": "2022-02-26T19:53:56.888978Z",
     "iopub.status.busy": "2022-02-26T19:53:56.888332Z",
     "iopub.status.idle": "2022-02-26T19:53:56.911378Z",
     "shell.execute_reply": "2022-02-26T19:53:56.911901Z",
     "shell.execute_reply.started": "2022-02-26T19:50:04.690372Z"
    },
    "papermill": {
     "duration": 0.074791,
     "end_time": "2022-02-26T19:53:56.912076",
     "exception": false,
     "start_time": "2022-02-26T19:53:56.837285",
     "status": "completed"
    },
    "tags": []
   },
   "outputs": [],
   "source": [
    "df = pd.read_csv(\"train_u6lujuX_CVtuZ9i.csv\")\n"
   ]
  },
  {
   "cell_type": "code",
   "execution_count": 4,
   "id": "2adf2fbc",
   "metadata": {},
   "outputs": [
    {
     "data": {
      "text/html": [
       "<div>\n",
       "<style scoped>\n",
       "    .dataframe tbody tr th:only-of-type {\n",
       "        vertical-align: middle;\n",
       "    }\n",
       "\n",
       "    .dataframe tbody tr th {\n",
       "        vertical-align: top;\n",
       "    }\n",
       "\n",
       "    .dataframe thead th {\n",
       "        text-align: right;\n",
       "    }\n",
       "</style>\n",
       "<table border=\"1\" class=\"dataframe\">\n",
       "  <thead>\n",
       "    <tr style=\"text-align: right;\">\n",
       "      <th></th>\n",
       "      <th>Loan_ID</th>\n",
       "      <th>Gender</th>\n",
       "      <th>Married</th>\n",
       "      <th>Dependents</th>\n",
       "      <th>Education</th>\n",
       "      <th>Self_Employed</th>\n",
       "      <th>ApplicantIncome</th>\n",
       "      <th>CoapplicantIncome</th>\n",
       "      <th>LoanAmount</th>\n",
       "      <th>Loan_Amount_Term</th>\n",
       "      <th>Credit_History</th>\n",
       "      <th>Property_Area</th>\n",
       "      <th>Loan_Status</th>\n",
       "    </tr>\n",
       "  </thead>\n",
       "  <tbody>\n",
       "    <tr>\n",
       "      <th>0</th>\n",
       "      <td>LP001002</td>\n",
       "      <td>Male</td>\n",
       "      <td>No</td>\n",
       "      <td>0</td>\n",
       "      <td>Graduate</td>\n",
       "      <td>No</td>\n",
       "      <td>5849</td>\n",
       "      <td>0.0</td>\n",
       "      <td>NaN</td>\n",
       "      <td>360.0</td>\n",
       "      <td>1.0</td>\n",
       "      <td>Urban</td>\n",
       "      <td>Y</td>\n",
       "    </tr>\n",
       "    <tr>\n",
       "      <th>1</th>\n",
       "      <td>LP001003</td>\n",
       "      <td>Male</td>\n",
       "      <td>Yes</td>\n",
       "      <td>1</td>\n",
       "      <td>Graduate</td>\n",
       "      <td>No</td>\n",
       "      <td>4583</td>\n",
       "      <td>1508.0</td>\n",
       "      <td>128.0</td>\n",
       "      <td>360.0</td>\n",
       "      <td>1.0</td>\n",
       "      <td>Rural</td>\n",
       "      <td>N</td>\n",
       "    </tr>\n",
       "    <tr>\n",
       "      <th>2</th>\n",
       "      <td>LP001005</td>\n",
       "      <td>Male</td>\n",
       "      <td>Yes</td>\n",
       "      <td>0</td>\n",
       "      <td>Graduate</td>\n",
       "      <td>Yes</td>\n",
       "      <td>3000</td>\n",
       "      <td>0.0</td>\n",
       "      <td>66.0</td>\n",
       "      <td>360.0</td>\n",
       "      <td>1.0</td>\n",
       "      <td>Urban</td>\n",
       "      <td>Y</td>\n",
       "    </tr>\n",
       "    <tr>\n",
       "      <th>3</th>\n",
       "      <td>LP001006</td>\n",
       "      <td>Male</td>\n",
       "      <td>Yes</td>\n",
       "      <td>0</td>\n",
       "      <td>Not Graduate</td>\n",
       "      <td>No</td>\n",
       "      <td>2583</td>\n",
       "      <td>2358.0</td>\n",
       "      <td>120.0</td>\n",
       "      <td>360.0</td>\n",
       "      <td>1.0</td>\n",
       "      <td>Urban</td>\n",
       "      <td>Y</td>\n",
       "    </tr>\n",
       "    <tr>\n",
       "      <th>4</th>\n",
       "      <td>LP001008</td>\n",
       "      <td>Male</td>\n",
       "      <td>No</td>\n",
       "      <td>0</td>\n",
       "      <td>Graduate</td>\n",
       "      <td>No</td>\n",
       "      <td>6000</td>\n",
       "      <td>0.0</td>\n",
       "      <td>141.0</td>\n",
       "      <td>360.0</td>\n",
       "      <td>1.0</td>\n",
       "      <td>Urban</td>\n",
       "      <td>Y</td>\n",
       "    </tr>\n",
       "  </tbody>\n",
       "</table>\n",
       "</div>"
      ],
      "text/plain": [
       "    Loan_ID Gender Married Dependents     Education Self_Employed  \\\n",
       "0  LP001002   Male      No          0      Graduate            No   \n",
       "1  LP001003   Male     Yes          1      Graduate            No   \n",
       "2  LP001005   Male     Yes          0      Graduate           Yes   \n",
       "3  LP001006   Male     Yes          0  Not Graduate            No   \n",
       "4  LP001008   Male      No          0      Graduate            No   \n",
       "\n",
       "   ApplicantIncome  CoapplicantIncome  LoanAmount  Loan_Amount_Term  \\\n",
       "0             5849                0.0         NaN             360.0   \n",
       "1             4583             1508.0       128.0             360.0   \n",
       "2             3000                0.0        66.0             360.0   \n",
       "3             2583             2358.0       120.0             360.0   \n",
       "4             6000                0.0       141.0             360.0   \n",
       "\n",
       "   Credit_History Property_Area Loan_Status  \n",
       "0             1.0         Urban           Y  \n",
       "1             1.0         Rural           N  \n",
       "2             1.0         Urban           Y  \n",
       "3             1.0         Urban           Y  \n",
       "4             1.0         Urban           Y  "
      ]
     },
     "execution_count": 4,
     "metadata": {},
     "output_type": "execute_result"
    }
   ],
   "source": [
    "df.head()"
   ]
  },
  {
   "cell_type": "code",
   "execution_count": 5,
   "id": "7498582c",
   "metadata": {
    "execution": {
     "iopub.execute_input": "2022-02-26T19:53:57.010366Z",
     "iopub.status.busy": "2022-02-26T19:53:57.009704Z",
     "iopub.status.idle": "2022-02-26T19:53:57.050982Z",
     "shell.execute_reply": "2022-02-26T19:53:57.051466Z",
     "shell.execute_reply.started": "2022-02-26T19:50:04.740457Z"
    },
    "papermill": {
     "duration": 0.090955,
     "end_time": "2022-02-26T19:53:57.051638",
     "exception": false,
     "start_time": "2022-02-26T19:53:56.960683",
     "status": "completed"
    },
    "tags": []
   },
   "outputs": [
    {
     "data": {
      "text/html": [
       "<div>\n",
       "<style scoped>\n",
       "    .dataframe tbody tr th:only-of-type {\n",
       "        vertical-align: middle;\n",
       "    }\n",
       "\n",
       "    .dataframe tbody tr th {\n",
       "        vertical-align: top;\n",
       "    }\n",
       "\n",
       "    .dataframe thead th {\n",
       "        text-align: right;\n",
       "    }\n",
       "</style>\n",
       "<table border=\"1\" class=\"dataframe\">\n",
       "  <thead>\n",
       "    <tr style=\"text-align: right;\">\n",
       "      <th></th>\n",
       "      <th>ApplicantIncome</th>\n",
       "      <th>CoapplicantIncome</th>\n",
       "      <th>LoanAmount</th>\n",
       "      <th>Loan_Amount_Term</th>\n",
       "      <th>Credit_History</th>\n",
       "    </tr>\n",
       "  </thead>\n",
       "  <tbody>\n",
       "    <tr>\n",
       "      <th>count</th>\n",
       "      <td>614.000000</td>\n",
       "      <td>614.000000</td>\n",
       "      <td>592.000000</td>\n",
       "      <td>600.00000</td>\n",
       "      <td>564.000000</td>\n",
       "    </tr>\n",
       "    <tr>\n",
       "      <th>mean</th>\n",
       "      <td>5403.459283</td>\n",
       "      <td>1621.245798</td>\n",
       "      <td>146.412162</td>\n",
       "      <td>342.00000</td>\n",
       "      <td>0.842199</td>\n",
       "    </tr>\n",
       "    <tr>\n",
       "      <th>std</th>\n",
       "      <td>6109.041673</td>\n",
       "      <td>2926.248369</td>\n",
       "      <td>85.587325</td>\n",
       "      <td>65.12041</td>\n",
       "      <td>0.364878</td>\n",
       "    </tr>\n",
       "    <tr>\n",
       "      <th>min</th>\n",
       "      <td>150.000000</td>\n",
       "      <td>0.000000</td>\n",
       "      <td>9.000000</td>\n",
       "      <td>12.00000</td>\n",
       "      <td>0.000000</td>\n",
       "    </tr>\n",
       "    <tr>\n",
       "      <th>25%</th>\n",
       "      <td>2877.500000</td>\n",
       "      <td>0.000000</td>\n",
       "      <td>100.000000</td>\n",
       "      <td>360.00000</td>\n",
       "      <td>1.000000</td>\n",
       "    </tr>\n",
       "    <tr>\n",
       "      <th>50%</th>\n",
       "      <td>3812.500000</td>\n",
       "      <td>1188.500000</td>\n",
       "      <td>128.000000</td>\n",
       "      <td>360.00000</td>\n",
       "      <td>1.000000</td>\n",
       "    </tr>\n",
       "    <tr>\n",
       "      <th>75%</th>\n",
       "      <td>5795.000000</td>\n",
       "      <td>2297.250000</td>\n",
       "      <td>168.000000</td>\n",
       "      <td>360.00000</td>\n",
       "      <td>1.000000</td>\n",
       "    </tr>\n",
       "    <tr>\n",
       "      <th>max</th>\n",
       "      <td>81000.000000</td>\n",
       "      <td>41667.000000</td>\n",
       "      <td>700.000000</td>\n",
       "      <td>480.00000</td>\n",
       "      <td>1.000000</td>\n",
       "    </tr>\n",
       "  </tbody>\n",
       "</table>\n",
       "</div>"
      ],
      "text/plain": [
       "       ApplicantIncome  CoapplicantIncome  LoanAmount  Loan_Amount_Term  \\\n",
       "count       614.000000         614.000000  592.000000         600.00000   \n",
       "mean       5403.459283        1621.245798  146.412162         342.00000   \n",
       "std        6109.041673        2926.248369   85.587325          65.12041   \n",
       "min         150.000000           0.000000    9.000000          12.00000   \n",
       "25%        2877.500000           0.000000  100.000000         360.00000   \n",
       "50%        3812.500000        1188.500000  128.000000         360.00000   \n",
       "75%        5795.000000        2297.250000  168.000000         360.00000   \n",
       "max       81000.000000       41667.000000  700.000000         480.00000   \n",
       "\n",
       "       Credit_History  \n",
       "count      564.000000  \n",
       "mean         0.842199  \n",
       "std          0.364878  \n",
       "min          0.000000  \n",
       "25%          1.000000  \n",
       "50%          1.000000  \n",
       "75%          1.000000  \n",
       "max          1.000000  "
      ]
     },
     "execution_count": 5,
     "metadata": {},
     "output_type": "execute_result"
    }
   ],
   "source": [
    "df.describe()\n",
    "\n",
    "#inferences-\n",
    "#1. some values in Loanamount, loanamountterm and credit history is missing.\n",
    "#2. mean>median, rightwards skew.\n",
    "#If skew present operations can't be executed directly. Data needs to be cleaned first.\n",
    "#4. Since mean of credit history column is 0.842 with binary values of 1 and 0, 84.2% people have a credit history."
   ]
  },
  {
   "cell_type": "code",
   "execution_count": 6,
   "id": "297f7e37",
   "metadata": {
    "execution": {
     "iopub.execute_input": "2022-02-26T19:53:57.152269Z",
     "iopub.status.busy": "2022-02-26T19:53:57.151581Z",
     "iopub.status.idle": "2022-02-26T19:53:57.154071Z",
     "shell.execute_reply": "2022-02-26T19:53:57.154535Z",
     "shell.execute_reply.started": "2022-02-26T19:50:04.796814Z"
    },
    "papermill": {
     "duration": 0.054896,
     "end_time": "2022-02-26T19:53:57.154702",
     "exception": false,
     "start_time": "2022-02-26T19:53:57.099806",
     "status": "completed"
    },
    "tags": []
   },
   "outputs": [
    {
     "data": {
      "text/plain": [
       "(614, 13)"
      ]
     },
     "execution_count": 6,
     "metadata": {},
     "output_type": "execute_result"
    }
   ],
   "source": [
    "df.shape"
   ]
  },
  {
   "cell_type": "code",
   "execution_count": 7,
   "id": "4c6b29cf",
   "metadata": {
    "execution": {
     "iopub.execute_input": "2022-02-26T19:53:57.254493Z",
     "iopub.status.busy": "2022-02-26T19:53:57.253898Z",
     "iopub.status.idle": "2022-02-26T19:53:57.260750Z",
     "shell.execute_reply": "2022-02-26T19:53:57.261219Z",
     "shell.execute_reply.started": "2022-02-26T19:50:04.805462Z"
    },
    "papermill": {
     "duration": 0.058332,
     "end_time": "2022-02-26T19:53:57.261387",
     "exception": false,
     "start_time": "2022-02-26T19:53:57.203055",
     "status": "completed"
    },
    "tags": []
   },
   "outputs": [
    {
     "data": {
      "text/plain": [
       "Semiurban    233\n",
       "Urban        202\n",
       "Rural        179\n",
       "Name: Property_Area, dtype: int64"
      ]
     },
     "execution_count": 7,
     "metadata": {},
     "output_type": "execute_result"
    }
   ],
   "source": [
    "df['Property_Area'].value_counts() #frequency table"
   ]
  },
  {
   "cell_type": "code",
   "execution_count": 8,
   "id": "d87772cb",
   "metadata": {
    "execution": {
     "iopub.execute_input": "2022-02-26T19:53:57.361798Z",
     "iopub.status.busy": "2022-02-26T19:53:57.361173Z",
     "iopub.status.idle": "2022-02-26T19:53:57.701020Z",
     "shell.execute_reply": "2022-02-26T19:53:57.701524Z",
     "shell.execute_reply.started": "2022-02-26T19:50:04.824466Z"
    },
    "papermill": {
     "duration": 0.391303,
     "end_time": "2022-02-26T19:53:57.701690",
     "exception": false,
     "start_time": "2022-02-26T19:53:57.310387",
     "status": "completed"
    },
    "tags": []
   },
   "outputs": [
    {
     "data": {
      "text/plain": [
       "<AxesSubplot:>"
      ]
     },
     "execution_count": 8,
     "metadata": {},
     "output_type": "execute_result"
    },
    {
     "data": {
      "image/png": "[encoded data removed]",
      "text/plain": [
       "<Figure size 432x288 with 1 Axes>"
      ]
     },
     "metadata": {
      "needs_background": "light"
     },
     "output_type": "display_data"
    }
   ],
   "source": [
    "\"\"\"Inference- Most applicants are from Urban and semi-urban area.\"\"\"\n",
    "df['ApplicantIncome'].hist(bins=50)"
   ]
  },
  {
   "cell_type": "code",
   "execution_count": 9,
   "id": "ba5d7c18",
   "metadata": {
    "execution": {
     "iopub.execute_input": "2022-02-26T19:53:57.803715Z",
     "iopub.status.busy": "2022-02-26T19:53:57.803085Z",
     "iopub.status.idle": "2022-02-26T19:53:58.090673Z",
     "shell.execute_reply": "2022-02-26T19:53:58.090128Z",
     "shell.execute_reply.started": "2022-02-26T19:50:05.227188Z"
    },
    "papermill": {
     "duration": 0.339474,
     "end_time": "2022-02-26T19:53:58.090811",
     "exception": false,
     "start_time": "2022-02-26T19:53:57.751337",
     "status": "completed"
    },
    "tags": []
   },
   "outputs": [
    {
     "data": {
      "text/plain": [
       "<AxesSubplot:>"
      ]
     },
     "execution_count": 9,
     "metadata": {},
     "output_type": "execute_result"
    },
    {
     "data": {
      "image/png": "[encoded data removed]",
      "text/plain": [
       "<Figure size 432x288 with 1 Axes>"
      ]
     },
     "metadata": {
      "needs_background": "light"
     },
     "output_type": "display_data"
    }
   ],
   "source": [
    "\"\"\"Inference-Bulk of applicants have income less than 10000\"\"\"\n",
    "df.boxplot(column='ApplicantIncome')\n"
   ]
  },
  {
   "cell_type": "code",
   "execution_count": 10,
   "id": "0f528aac",
   "metadata": {
    "execution": {
     "iopub.execute_input": "2022-02-26T19:53:58.195371Z",
     "iopub.status.busy": "2022-02-26T19:53:58.194695Z",
     "iopub.status.idle": "2022-02-26T19:53:58.417095Z",
     "shell.execute_reply": "2022-02-26T19:53:58.416545Z",
     "shell.execute_reply.started": "2022-02-26T19:50:05.545491Z"
    },
    "papermill": {
     "duration": 0.275668,
     "end_time": "2022-02-26T19:53:58.417240",
     "exception": false,
     "start_time": "2022-02-26T19:53:58.141572",
     "status": "completed"
    },
    "tags": []
   },
   "outputs": [
    {
     "data": {
      "text/plain": [
       "<AxesSubplot:title={'center':'ApplicantIncome'}, xlabel='Education'>"
      ]
     },
     "execution_count": 10,
     "metadata": {},
     "output_type": "execute_result"
    },
    {
     "data": {
      "image/png": "[encoded data removed]",
      "text/plain": [
       "<Figure size 432x288 with 1 Axes>"
      ]
     },
     "metadata": {
      "needs_background": "light"
     },
     "output_type": "display_data"
    }
   ],
   "source": [
    "\"\"\"The two black linnes show maximum and minimum value, the box shows 1st and 3rd quartile, the green line shows 50 percentile\"\"\"\n",
    "df.boxplot(column='ApplicantIncome',by ='Education')"
   ]
  },
  {
   "cell_type": "code",
   "execution_count": 11,
   "id": "3cf63c96",
   "metadata": {
    "execution": {
     "iopub.execute_input": "2022-02-26T19:53:58.523777Z",
     "iopub.status.busy": "2022-02-26T19:53:58.523100Z",
     "iopub.status.idle": "2022-02-26T19:53:58.527377Z",
     "shell.execute_reply": "2022-02-26T19:53:58.528012Z",
     "shell.execute_reply.started": "2022-02-26T19:50:05.795999Z"
    },
    "papermill": {
     "duration": 0.059275,
     "end_time": "2022-02-26T19:53:58.528196",
     "exception": false,
     "start_time": "2022-02-26T19:53:58.468921",
     "status": "completed"
    },
    "tags": []
   },
   "outputs": [
    {
     "data": {
      "text/plain": [
       "'Inference- if a person is a graduate, the person has a higher chance of earning substantially more money than non- graduates.'"
      ]
     },
     "execution_count": 11,
     "metadata": {},
     "output_type": "execute_result"
    }
   ],
   "source": [
    "\"\"\"Inference- if a person is a graduate, the person has a higher chance of earning substantially more money than non- graduates.\"\"\""
   ]
  },
  {
   "cell_type": "code",
   "execution_count": 12,
   "id": "2e86e38c",
   "metadata": {
    "execution": {
     "iopub.execute_input": "2022-02-26T19:53:58.636226Z",
     "iopub.status.busy": "2022-02-26T19:53:58.635615Z",
     "iopub.status.idle": "2022-02-26T19:53:58.904373Z",
     "shell.execute_reply": "2022-02-26T19:53:58.904870Z",
     "shell.execute_reply.started": "2022-02-26T19:50:05.805173Z"
    },
    "papermill": {
     "duration": 0.323966,
     "end_time": "2022-02-26T19:53:58.905057",
     "exception": false,
     "start_time": "2022-02-26T19:53:58.581091",
     "status": "completed"
    },
    "tags": []
   },
   "outputs": [
    {
     "data": {
      "text/plain": [
       "<AxesSubplot:>"
      ]
     },
     "execution_count": 12,
     "metadata": {},
     "output_type": "execute_result"
    },
    {
     "data": {
      "image/png": "[encoded data removed]",
      "text/plain": [
       "<Figure size 432x288 with 1 Axes>"
      ]
     },
     "metadata": {
      "needs_background": "light"
     },
     "output_type": "display_data"
    }
   ],
   "source": [
    "df[\"LoanAmount\"].hist(bins=30)"
   ]
  },
  {
   "cell_type": "code",
   "execution_count": 13,
   "id": "5ea77ae9",
   "metadata": {
    "execution": {
     "iopub.execute_input": "2022-02-26T19:53:59.014600Z",
     "iopub.status.busy": "2022-02-26T19:53:59.013980Z",
     "iopub.status.idle": "2022-02-26T19:53:59.196154Z",
     "shell.execute_reply": "2022-02-26T19:53:59.196612Z",
     "shell.execute_reply.started": "2022-02-26T19:50:06.096842Z"
    },
    "papermill": {
     "duration": 0.238579,
     "end_time": "2022-02-26T19:53:59.196783",
     "exception": false,
     "start_time": "2022-02-26T19:53:58.958204",
     "status": "completed"
    },
    "tags": []
   },
   "outputs": [
    {
     "data": {
      "text/plain": [
       "<AxesSubplot:>"
      ]
     },
     "execution_count": 13,
     "metadata": {},
     "output_type": "execute_result"
    },
    {
     "data": {
      "image/png": "[encoded data removed]",
      "text/plain": [
       "<Figure size 432x288 with 1 Axes>"
      ]
     },
     "metadata": {
      "needs_background": "light"
     },
     "output_type": "display_data"
    }
   ],
   "source": [
    "\"\"\"Positive skew\"\"\"\n",
    "df.boxplot(column='LoanAmount')"
   ]
  },
  {
   "cell_type": "code",
   "execution_count": 14,
   "id": "18640a9b",
   "metadata": {
    "execution": {
     "iopub.execute_input": "2022-02-26T19:53:59.318936Z",
     "iopub.status.busy": "2022-02-26T19:53:59.318262Z",
     "iopub.status.idle": "2022-02-26T19:53:59.333504Z",
     "shell.execute_reply": "2022-02-26T19:53:59.332977Z",
     "shell.execute_reply.started": "2022-02-26T19:50:06.302708Z"
    },
    "papermill": {
     "duration": 0.082245,
     "end_time": "2022-02-26T19:53:59.333652",
     "exception": false,
     "start_time": "2022-02-26T19:53:59.251407",
     "status": "completed"
    },
    "tags": []
   },
   "outputs": [
    {
     "name": "stdout",
     "output_type": "stream",
     "text": [
      "Frequency Table for Credit History:\n",
      "0.0     89\n",
      "1.0    475\n",
      "Name: Credit_History, dtype: int64\n",
      "\n",
      "Probility of getting loan for each Credit History class:\n",
      "                Loan_Status\n",
      "Credit_History             \n",
      "0.0                0.078652\n",
      "1.0                0.795789\n"
     ]
    }
   ],
   "source": [
    "temp1 = df['Credit_History'].value_counts(ascending=True) \n",
    "temp2 = df.pivot_table(values='Loan_Status',index=['Credit_History'],aggfunc=lambda x: x.map({'Y':1,'N':0}).mean()) \n",
    "print ('Frequency Table for Credit History:' )\n",
    "print (temp1 )\n",
    "print ('\\nProbility of getting loan for each Credit History class:' )\n",
    "print( temp2)"
   ]
  },
  {
   "cell_type": "code",
   "execution_count": 15,
   "id": "97d05933",
   "metadata": {
    "execution": {
     "iopub.execute_input": "2022-02-26T19:53:59.447048Z",
     "iopub.status.busy": "2022-02-26T19:53:59.446405Z",
     "iopub.status.idle": "2022-02-26T19:53:59.764436Z",
     "shell.execute_reply": "2022-02-26T19:53:59.763805Z",
     "shell.execute_reply.started": "2022-02-26T19:50:06.332466Z"
    },
    "papermill": {
     "duration": 0.37583,
     "end_time": "2022-02-26T19:53:59.764573",
     "exception": false,
     "start_time": "2022-02-26T19:53:59.388743",
     "status": "completed"
    },
    "scrolled": true,
    "tags": []
   },
   "outputs": [
    {
     "data": {
      "text/plain": [
       "<AxesSubplot:title={'center':'Probability of getting loan by credit history'}, xlabel='Credit_History', ylabel='Probability of getting loan'>"
      ]
     },
     "execution_count": 15,
     "metadata": {},
     "output_type": "execute_result"
    },
    {
     "data": {
      "image/png": "[encoded data removed]",
      "text/plain": [
       "<Figure size 576x288 with 2 Axes>"
      ]
     },
     "metadata": {
      "needs_background": "light"
     },
     "output_type": "display_data"
    }
   ],
   "source": [
    "import matplotlib.pyplot as plt\n",
    "fig = plt.figure(figsize=(8,4))\n",
    "ax1 = fig.add_subplot(121)\n",
    "ax1.set_xlabel('Credit_History')\n",
    "ax1.set_ylabel('Count of Applicants')\n",
    "ax1.set_title(\"Applicants by Credit_History\")\n",
    "temp1.plot(kind='bar',ax=ax1)\n",
    "\n",
    "ax2 = fig.add_subplot(122)\n",
    "\n",
    "ax2.set_xlabel('Credit_History')\n",
    "ax2.set_ylabel('Probability of getting loan')\n",
    "ax2.set_title(\"Probability of getting loan by credit history\")\n",
    "temp2.plot(kind = 'bar',ax=ax2)"
   ]
  },
  {
   "cell_type": "code",
   "execution_count": 16,
   "id": "5338b78a",
   "metadata": {
    "execution": {
     "iopub.execute_input": "2022-02-26T19:53:59.893209Z",
     "iopub.status.busy": "2022-02-26T19:53:59.889040Z",
     "iopub.status.idle": "2022-02-26T19:54:00.093101Z",
     "shell.execute_reply": "2022-02-26T19:54:00.093633Z",
     "shell.execute_reply.started": "2022-02-26T19:50:06.668585Z"
    },
    "papermill": {
     "duration": 0.270224,
     "end_time": "2022-02-26T19:54:00.093799",
     "exception": false,
     "start_time": "2022-02-26T19:53:59.823575",
     "status": "completed"
    },
    "tags": []
   },
   "outputs": [
    {
     "data": {
      "text/plain": [
       "<AxesSubplot:xlabel='Credit_History'>"
      ]
     },
     "execution_count": 16,
     "metadata": {},
     "output_type": "execute_result"
    },
    {
     "data": {
      "image/png": "[encoded data removed]",
      "text/plain": [
       "<Figure size 432x288 with 1 Axes>"
      ]
     },
     "metadata": {
      "needs_background": "light"
     },
     "output_type": "display_data"
    }
   ],
   "source": [
    "temp3 = pd.crosstab(df['Credit_History'], df['Loan_Status']) \n",
    "temp3.plot(kind='bar', stacked=True, color=['red','blue'], grid=False)"
   ]
  },
  {
   "cell_type": "markdown",
   "id": "f32e6c01",
   "metadata": {},
   "source": [
    "Applicants with good credit history were considered compared those with poor credit history"
   ]
  },
  {
   "cell_type": "code",
   "execution_count": 17,
   "id": "4f0762b3",
   "metadata": {
    "execution": {
     "iopub.execute_input": "2022-02-26T19:54:00.212325Z",
     "iopub.status.busy": "2022-02-26T19:54:00.211670Z",
     "iopub.status.idle": "2022-02-26T19:54:00.219338Z",
     "shell.execute_reply": "2022-02-26T19:54:00.219872Z",
     "shell.execute_reply.started": "2022-02-26T19:50:06.907207Z"
    },
    "papermill": {
     "duration": 0.068692,
     "end_time": "2022-02-26T19:54:00.220036",
     "exception": false,
     "start_time": "2022-02-26T19:54:00.151344",
     "status": "completed"
    },
    "scrolled": true,
    "tags": []
   },
   "outputs": [
    {
     "data": {
      "text/plain": [
       "Loan_ID               0\n",
       "Gender               13\n",
       "Married               3\n",
       "Dependents           15\n",
       "Education             0\n",
       "Self_Employed        32\n",
       "ApplicantIncome       0\n",
       "CoapplicantIncome     0\n",
       "LoanAmount           22\n",
       "Loan_Amount_Term     14\n",
       "Credit_History       50\n",
       "Property_Area         0\n",
       "Loan_Status           0\n",
       "dtype: int64"
      ]
     },
     "execution_count": 17,
     "metadata": {},
     "output_type": "execute_result"
    }
   ],
   "source": [
    "#DATA MUNGING using pandas.\n",
    "df.isnull().sum() "
   ]
  },
  {
   "cell_type": "code",
   "execution_count": 18,
   "id": "17c3f96e",
   "metadata": {
    "execution": {
     "iopub.execute_input": "2022-02-26T19:54:00.338579Z",
     "iopub.status.busy": "2022-02-26T19:54:00.337957Z",
     "iopub.status.idle": "2022-02-26T19:54:00.342262Z",
     "shell.execute_reply": "2022-02-26T19:54:00.342865Z",
     "shell.execute_reply.started": "2022-02-26T19:50:06.922982Z"
    },
    "papermill": {
     "duration": 0.065416,
     "end_time": "2022-02-26T19:54:00.343053",
     "exception": false,
     "start_time": "2022-02-26T19:54:00.277637",
     "status": "completed"
    },
    "tags": []
   },
   "outputs": [
    {
     "data": {
      "text/plain": [
       "(614, 13)"
      ]
     },
     "execution_count": 18,
     "metadata": {},
     "output_type": "execute_result"
    }
   ],
   "source": [
    "df.shape"
   ]
  },
  {
   "cell_type": "code",
   "execution_count": 19,
   "id": "2af6a66d",
   "metadata": {},
   "outputs": [
    {
     "name": "stdout",
     "output_type": "stream",
     "text": [
      "<class 'pandas.core.frame.DataFrame'>\n",
      "RangeIndex: 614 entries, 0 to 613\n",
      "Data columns (total 13 columns):\n",
      " #   Column             Non-Null Count  Dtype  \n",
      "---  ------             --------------  -----  \n",
      " 0   Loan_ID            614 non-null    object \n",
      " 1   Gender             601 non-null    object \n",
      " 2   Married            611 non-null    object \n",
      " 3   Dependents         599 non-null    object \n",
      " 4   Education          614 non-null    object \n",
      " 5   Self_Employed      582 non-null    object \n",
      " 6   ApplicantIncome    614 non-null    int64  \n",
      " 7   CoapplicantIncome  614 non-null    float64\n",
      " 8   LoanAmount         592 non-null    float64\n",
      " 9   Loan_Amount_Term   600 non-null    float64\n",
      " 10  Credit_History     564 non-null    float64\n",
      " 11  Property_Area      614 non-null    object \n",
      " 12  Loan_Status        614 non-null    object \n",
      "dtypes: float64(4), int64(1), object(8)\n",
      "memory usage: 62.5+ KB\n"
     ]
    }
   ],
   "source": [
    "df.info()"
   ]
  },
  {
   "cell_type": "code",
   "execution_count": 20,
   "id": "69e8decf",
   "metadata": {
    "execution": {
     "iopub.execute_input": "2022-02-26T19:54:00.462465Z",
     "iopub.status.busy": "2022-02-26T19:54:00.461838Z",
     "iopub.status.idle": "2022-02-26T19:54:00.466521Z",
     "shell.execute_reply": "2022-02-26T19:54:00.467005Z",
     "shell.execute_reply.started": "2022-02-26T19:50:06.938586Z"
    },
    "papermill": {
     "duration": 0.066131,
     "end_time": "2022-02-26T19:54:00.467179",
     "exception": false,
     "start_time": "2022-02-26T19:54:00.401048",
     "status": "completed"
    },
    "tags": []
   },
   "outputs": [],
   "source": [
    "#close to 25% data is missing. Hence can't delete data. Replacing values:\n",
    "#Only one numerical column- loan amount\n",
    "df['LoanAmount'].fillna(df['LoanAmount'].mean(), inplace=True)"
   ]
  },
  {
   "cell_type": "code",
   "execution_count": 21,
   "id": "02761358",
   "metadata": {
    "execution": {
     "iopub.execute_input": "2022-02-26T19:54:00.592899Z",
     "iopub.status.busy": "2022-02-26T19:54:00.590145Z",
     "iopub.status.idle": "2022-02-26T19:54:00.595390Z",
     "shell.execute_reply": "2022-02-26T19:54:00.595977Z",
     "shell.execute_reply.started": "2022-02-26T19:50:06.955465Z"
    },
    "papermill": {
     "duration": 0.070706,
     "end_time": "2022-02-26T19:54:00.596184",
     "exception": false,
     "start_time": "2022-02-26T19:54:00.525478",
     "status": "completed"
    },
    "scrolled": true,
    "tags": []
   },
   "outputs": [
    {
     "data": {
      "text/plain": [
       "Loan_ID               0\n",
       "Gender               13\n",
       "Married               3\n",
       "Dependents           15\n",
       "Education             0\n",
       "Self_Employed        32\n",
       "ApplicantIncome       0\n",
       "CoapplicantIncome     0\n",
       "LoanAmount            0\n",
       "Loan_Amount_Term     14\n",
       "Credit_History       50\n",
       "Property_Area         0\n",
       "Loan_Status           0\n",
       "dtype: int64"
      ]
     },
     "execution_count": 21,
     "metadata": {},
     "output_type": "execute_result"
    }
   ],
   "source": [
    "df.isnull().sum()"
   ]
  },
  {
   "cell_type": "code",
   "execution_count": 22,
   "id": "052ba8be",
   "metadata": {
    "papermill": {
     "duration": 0.05848,
     "end_time": "2022-02-26T19:54:00.713266",
     "exception": false,
     "start_time": "2022-02-26T19:54:00.654786",
     "status": "completed"
    },
    "scrolled": true,
    "tags": []
   },
   "outputs": [
    {
     "data": {
      "text/plain": [
       "0    No\n",
       "dtype: object"
      ]
     },
     "execution_count": 22,
     "metadata": {},
     "output_type": "execute_result"
    }
   ],
   "source": [
    "df['Self_Employed'].mode()"
   ]
  },
  {
   "cell_type": "code",
   "execution_count": 23,
   "id": "26b435ff",
   "metadata": {
    "execution": {
     "iopub.execute_input": "2022-02-26T19:54:00.836485Z",
     "iopub.status.busy": "2022-02-26T19:54:00.835800Z",
     "iopub.status.idle": "2022-02-26T19:54:00.843800Z",
     "shell.execute_reply": "2022-02-26T19:54:00.844420Z",
     "shell.execute_reply.started": "2022-02-26T19:50:06.974085Z"
    },
    "papermill": {
     "duration": 0.072576,
     "end_time": "2022-02-26T19:54:00.844587",
     "exception": false,
     "start_time": "2022-02-26T19:54:00.772011",
     "status": "completed"
    },
    "tags": []
   },
   "outputs": [
    {
     "data": {
      "text/plain": [
       "Loan_ID               0\n",
       "Gender               13\n",
       "Married               3\n",
       "Dependents           15\n",
       "Education             0\n",
       "Self_Employed         0\n",
       "ApplicantIncome       0\n",
       "CoapplicantIncome     0\n",
       "LoanAmount            0\n",
       "Loan_Amount_Term     14\n",
       "Credit_History       50\n",
       "Property_Area         0\n",
       "Loan_Status           0\n",
       "dtype: int64"
      ]
     },
     "execution_count": 23,
     "metadata": {},
     "output_type": "execute_result"
    }
   ],
   "source": [
    "df['Self_Employed'].value_counts()\n",
    "df['Self_Employed'].fillna('No',inplace=True)\n",
    "df.isnull().sum() "
   ]
  },
  {
   "cell_type": "code",
   "execution_count": 24,
   "id": "c559a971",
   "metadata": {},
   "outputs": [
    {
     "data": {
      "text/plain": [
       "0    Male\n",
       "dtype: object"
      ]
     },
     "execution_count": 24,
     "metadata": {},
     "output_type": "execute_result"
    }
   ],
   "source": [
    "df['Gender'].mode()"
   ]
  },
  {
   "cell_type": "code",
   "execution_count": 97,
   "id": "c05d34be",
   "metadata": {
    "execution": {
     "iopub.execute_input": "2022-02-26T19:54:00.967708Z",
     "iopub.status.busy": "2022-02-26T19:54:00.966723Z",
     "iopub.status.idle": "2022-02-26T19:54:00.977075Z",
     "shell.execute_reply": "2022-02-26T19:54:00.977650Z",
     "shell.execute_reply.started": "2022-02-26T19:50:06.994202Z"
    },
    "papermill": {
     "duration": 0.073776,
     "end_time": "2022-02-26T19:54:00.977815",
     "exception": false,
     "start_time": "2022-02-26T19:54:00.904039",
     "status": "completed"
    },
    "tags": []
   },
   "outputs": [
    {
     "data": {
      "text/plain": [
       "Loan_ID               0\n",
       "Gender                0\n",
       "Married               3\n",
       "Dependents           15\n",
       "Education             0\n",
       "Self_Employed         0\n",
       "ApplicantIncome       0\n",
       "CoapplicantIncome     0\n",
       "LoanAmount            0\n",
       "Loan_Amount_Term     14\n",
       "Credit_History       50\n",
       "Property_Area         0\n",
       "Loan_Status           0\n",
       "dtype: int64"
      ]
     },
     "execution_count": 97,
     "metadata": {},
     "output_type": "execute_result"
    }
   ],
   "source": [
    "df['Gender'].value_counts()\n",
    "df['Gender'].fillna('Male',inplace=True)\n",
    "df.isnull().sum() "
   ]
  },
  {
   "cell_type": "code",
   "execution_count": 98,
   "id": "8dcd4ed5",
   "metadata": {
    "execution": {
     "iopub.execute_input": "2022-02-26T19:54:01.106225Z",
     "iopub.status.busy": "2022-02-26T19:54:01.105417Z",
     "iopub.status.idle": "2022-02-26T19:54:01.108642Z",
     "shell.execute_reply": "2022-02-26T19:54:01.109127Z",
     "shell.execute_reply.started": "2022-02-26T19:50:07.014856Z"
    },
    "papermill": {
     "duration": 0.071173,
     "end_time": "2022-02-26T19:54:01.109293",
     "exception": false,
     "start_time": "2022-02-26T19:54:01.038120",
     "status": "completed"
    },
    "tags": []
   },
   "outputs": [
    {
     "data": {
      "text/plain": [
       "0     345\n",
       "1     102\n",
       "2     101\n",
       "3+     51\n",
       "Name: Dependents, dtype: int64"
      ]
     },
     "execution_count": 98,
     "metadata": {},
     "output_type": "execute_result"
    }
   ],
   "source": [
    "df['Dependents'].value_counts()"
   ]
  },
  {
   "cell_type": "code",
   "execution_count": 99,
   "id": "cfcbed26",
   "metadata": {
    "execution": {
     "iopub.execute_input": "2022-02-26T19:54:01.232719Z",
     "iopub.status.busy": "2022-02-26T19:54:01.231733Z",
     "iopub.status.idle": "2022-02-26T19:54:01.240374Z",
     "shell.execute_reply": "2022-02-26T19:54:01.240969Z",
     "shell.execute_reply.started": "2022-02-26T19:50:07.024718Z"
    },
    "papermill": {
     "duration": 0.071837,
     "end_time": "2022-02-26T19:54:01.241149",
     "exception": false,
     "start_time": "2022-02-26T19:54:01.169312",
     "status": "completed"
    },
    "tags": []
   },
   "outputs": [
    {
     "data": {
      "text/plain": [
       "Loan_ID               0\n",
       "Gender                0\n",
       "Married               3\n",
       "Dependents            0\n",
       "Education             0\n",
       "Self_Employed         0\n",
       "ApplicantIncome       0\n",
       "CoapplicantIncome     0\n",
       "LoanAmount            0\n",
       "Loan_Amount_Term     14\n",
       "Credit_History       50\n",
       "Property_Area         0\n",
       "Loan_Status           0\n",
       "dtype: int64"
      ]
     },
     "execution_count": 99,
     "metadata": {},
     "output_type": "execute_result"
    }
   ],
   "source": [
    "df['Dependents'].fillna(\"0\",inplace=True)\n",
    "df.isnull().sum() "
   ]
  },
  {
   "cell_type": "code",
   "execution_count": 100,
   "id": "f3d9b955",
   "metadata": {
    "execution": {
     "iopub.execute_input": "2022-02-26T19:54:01.365818Z",
     "iopub.status.busy": "2022-02-26T19:54:01.365186Z",
     "iopub.status.idle": "2022-02-26T19:54:01.371458Z",
     "shell.execute_reply": "2022-02-26T19:54:01.372042Z",
     "shell.execute_reply.started": "2022-02-26T19:50:07.043176Z"
    },
    "papermill": {
     "duration": 0.070264,
     "end_time": "2022-02-26T19:54:01.372212",
     "exception": false,
     "start_time": "2022-02-26T19:54:01.301948",
     "status": "completed"
    },
    "tags": []
   },
   "outputs": [
    {
     "data": {
      "text/plain": [
       "Yes    398\n",
       "No     213\n",
       "Name: Married, dtype: int64"
      ]
     },
     "execution_count": 100,
     "metadata": {},
     "output_type": "execute_result"
    }
   ],
   "source": [
    "df['Married'].value_counts()"
   ]
  },
  {
   "cell_type": "code",
   "execution_count": 101,
   "id": "ce65fe23",
   "metadata": {
    "execution": {
     "iopub.execute_input": "2022-02-26T19:54:01.497789Z",
     "iopub.status.busy": "2022-02-26T19:54:01.497145Z",
     "iopub.status.idle": "2022-02-26T19:54:01.505794Z",
     "shell.execute_reply": "2022-02-26T19:54:01.506339Z",
     "shell.execute_reply.started": "2022-02-26T19:50:07.057382Z"
    },
    "papermill": {
     "duration": 0.073295,
     "end_time": "2022-02-26T19:54:01.506524",
     "exception": false,
     "start_time": "2022-02-26T19:54:01.433229",
     "status": "completed"
    },
    "tags": []
   },
   "outputs": [
    {
     "data": {
      "text/plain": [
       "Loan_ID               0\n",
       "Gender                0\n",
       "Married               0\n",
       "Dependents            0\n",
       "Education             0\n",
       "Self_Employed         0\n",
       "ApplicantIncome       0\n",
       "CoapplicantIncome     0\n",
       "LoanAmount            0\n",
       "Loan_Amount_Term     14\n",
       "Credit_History       50\n",
       "Property_Area         0\n",
       "Loan_Status           0\n",
       "dtype: int64"
      ]
     },
     "execution_count": 101,
     "metadata": {},
     "output_type": "execute_result"
    }
   ],
   "source": [
    "df['Married'].fillna('yes',inplace=True)\n",
    "df.isnull().sum() "
   ]
  },
  {
   "cell_type": "code",
   "execution_count": 102,
   "id": "b4f00f8f",
   "metadata": {
    "execution": {
     "iopub.execute_input": "2022-02-26T19:54:01.634479Z",
     "iopub.status.busy": "2022-02-26T19:54:01.633798Z",
     "iopub.status.idle": "2022-02-26T19:54:01.640673Z",
     "shell.execute_reply": "2022-02-26T19:54:01.641223Z",
     "shell.execute_reply.started": "2022-02-26T19:50:07.076231Z"
    },
    "papermill": {
     "duration": 0.072421,
     "end_time": "2022-02-26T19:54:01.641405",
     "exception": false,
     "start_time": "2022-02-26T19:54:01.568984",
     "status": "completed"
    },
    "tags": []
   },
   "outputs": [
    {
     "data": {
      "text/plain": [
       "360.0    512\n",
       "180.0     44\n",
       "480.0     15\n",
       "300.0     13\n",
       "240.0      4\n",
       "84.0       4\n",
       "120.0      3\n",
       "60.0       2\n",
       "36.0       2\n",
       "12.0       1\n",
       "Name: Loan_Amount_Term, dtype: int64"
      ]
     },
     "execution_count": 102,
     "metadata": {},
     "output_type": "execute_result"
    }
   ],
   "source": [
    "df['Loan_Amount_Term'].value_counts()"
   ]
  },
  {
   "cell_type": "code",
   "execution_count": 103,
   "id": "40137123",
   "metadata": {
    "execution": {
     "iopub.execute_input": "2022-02-26T19:54:01.776385Z",
     "iopub.status.busy": "2022-02-26T19:54:01.768761Z",
     "iopub.status.idle": "2022-02-26T19:54:01.778812Z",
     "shell.execute_reply": "2022-02-26T19:54:01.779573Z",
     "shell.execute_reply.started": "2022-02-26T19:50:07.087462Z"
    },
    "papermill": {
     "duration": 0.076063,
     "end_time": "2022-02-26T19:54:01.779763",
     "exception": false,
     "start_time": "2022-02-26T19:54:01.703700",
     "status": "completed"
    },
    "tags": []
   },
   "outputs": [
    {
     "data": {
      "text/plain": [
       "Loan_ID               0\n",
       "Gender                0\n",
       "Married               0\n",
       "Dependents            0\n",
       "Education             0\n",
       "Self_Employed         0\n",
       "ApplicantIncome       0\n",
       "CoapplicantIncome     0\n",
       "LoanAmount            0\n",
       "Loan_Amount_Term      0\n",
       "Credit_History       50\n",
       "Property_Area         0\n",
       "Loan_Status           0\n",
       "dtype: int64"
      ]
     },
     "execution_count": 103,
     "metadata": {},
     "output_type": "execute_result"
    }
   ],
   "source": [
    "df['Loan_Amount_Term'].fillna(\"360.0\",inplace=True)\n",
    "df.isnull().sum() "
   ]
  },
  {
   "cell_type": "code",
   "execution_count": 104,
   "id": "f0478509",
   "metadata": {
    "execution": {
     "iopub.execute_input": "2022-02-26T19:54:01.909151Z",
     "iopub.status.busy": "2022-02-26T19:54:01.908496Z",
     "iopub.status.idle": "2022-02-26T19:54:01.918249Z",
     "shell.execute_reply": "2022-02-26T19:54:01.918773Z",
     "shell.execute_reply.started": "2022-02-26T19:50:07.108413Z"
    },
    "papermill": {
     "duration": 0.07578,
     "end_time": "2022-02-26T19:54:01.918957",
     "exception": false,
     "start_time": "2022-02-26T19:54:01.843177",
     "status": "completed"
    },
    "tags": []
   },
   "outputs": [
    {
     "data": {
      "text/plain": [
       "Loan_ID              0\n",
       "Gender               0\n",
       "Married              0\n",
       "Dependents           0\n",
       "Education            0\n",
       "Self_Employed        0\n",
       "ApplicantIncome      0\n",
       "CoapplicantIncome    0\n",
       "LoanAmount           0\n",
       "Loan_Amount_Term     0\n",
       "Credit_History       0\n",
       "Property_Area        0\n",
       "Loan_Status          0\n",
       "dtype: int64"
      ]
     },
     "execution_count": 104,
     "metadata": {},
     "output_type": "execute_result"
    }
   ],
   "source": [
    "df['Credit_History'].value_counts()\n",
    "df['Credit_History'].fillna(\"360.0\",inplace=True)\n",
    "df.isnull().sum() "
   ]
  },
  {
   "cell_type": "code",
   "execution_count": 105,
   "id": "584dedf8",
   "metadata": {
    "execution": {
     "iopub.execute_input": "2022-02-26T19:54:02.069515Z",
     "iopub.status.busy": "2022-02-26T19:54:02.049436Z",
     "iopub.status.idle": "2022-02-26T19:54:02.345700Z",
     "shell.execute_reply": "2022-02-26T19:54:02.345072Z",
     "shell.execute_reply.started": "2022-02-26T19:50:07.124727Z"
    },
    "papermill": {
     "duration": 0.363319,
     "end_time": "2022-02-26T19:54:02.345834",
     "exception": false,
     "start_time": "2022-02-26T19:54:01.982515",
     "status": "completed"
    },
    "tags": []
   },
   "outputs": [
    {
     "data": {
      "text/plain": [
       "<AxesSubplot:>"
      ]
     },
     "execution_count": 105,
     "metadata": {},
     "output_type": "execute_result"
    },
    {
     "data": {
      "image/png": "[encoded data removed]",
      "text/plain": [
       "<Figure size 432x288 with 1 Axes>"
      ]
     },
     "metadata": {
      "needs_background": "light"
     },
     "output_type": "display_data"
    }
   ],
   "source": [
    "#TREATING FOR EXTREME VALUES\n",
    "df['LoanAmount'].hist(bins=50)"
   ]
  },
  {
   "cell_type": "code",
   "execution_count": 110,
   "id": "0db1ea0f",
   "metadata": {
    "execution": {
     "iopub.execute_input": "2022-02-26T19:54:02.481053Z",
     "iopub.status.busy": "2022-02-26T19:54:02.480089Z",
     "iopub.status.idle": "2022-02-26T19:54:02.483008Z",
     "shell.execute_reply": "2022-02-26T19:54:02.482437Z",
     "shell.execute_reply.started": "2022-02-26T19:50:07.444480Z"
    },
    "papermill": {
     "duration": 0.073079,
     "end_time": "2022-02-26T19:54:02.483151",
     "exception": false,
     "start_time": "2022-02-26T19:54:02.410072",
     "status": "completed"
    },
    "tags": []
   },
   "outputs": [],
   "source": [
    "#using log-trasformation to normalise the data.\n",
    "df['LoanAmount_log'] = np.log(df['LoanAmount'])"
   ]
  },
  {
   "cell_type": "code",
   "execution_count": 111,
   "id": "c6bc0711",
   "metadata": {
    "execution": {
     "iopub.execute_input": "2022-02-26T19:54:02.627321Z",
     "iopub.status.busy": "2022-02-26T19:54:02.626320Z",
     "iopub.status.idle": "2022-02-26T19:54:02.906198Z",
     "shell.execute_reply": "2022-02-26T19:54:02.906684Z",
     "shell.execute_reply.started": "2022-02-26T19:50:07.453692Z"
    },
    "papermill": {
     "duration": 0.359643,
     "end_time": "2022-02-26T19:54:02.906871",
     "exception": false,
     "start_time": "2022-02-26T19:54:02.547228",
     "status": "completed"
    },
    "tags": []
   },
   "outputs": [
    {
     "data": {
      "text/plain": [
       "<AxesSubplot:>"
      ]
     },
     "execution_count": 111,
     "metadata": {},
     "output_type": "execute_result"
    },
    {
     "data": {
      "image/png": "[encoded data removed]",
      "text/plain": [
       "<Figure size 432x288 with 1 Axes>"
      ]
     },
     "metadata": {
      "needs_background": "light"
     },
     "output_type": "display_data"
    }
   ],
   "source": [
    "df['LoanAmount_log'].hist(bins=50)"
   ]
  },
  {
   "cell_type": "code",
   "execution_count": 112,
   "id": "3e211c3c",
   "metadata": {
    "execution": {
     "iopub.execute_input": "2022-02-26T19:54:03.040077Z",
     "iopub.status.busy": "2022-02-26T19:54:03.039349Z",
     "iopub.status.idle": "2022-02-26T19:54:03.042058Z",
     "shell.execute_reply": "2022-02-26T19:54:03.041422Z",
     "shell.execute_reply.started": "2022-02-26T19:50:07.765639Z"
    },
    "papermill": {
     "duration": 0.070756,
     "end_time": "2022-02-26T19:54:03.042202",
     "exception": false,
     "start_time": "2022-02-26T19:54:02.971446",
     "status": "completed"
    },
    "tags": []
   },
   "outputs": [],
   "source": [
    "#As it can be seen, the distribution has become much more normalised."
   ]
  },
  {
   "cell_type": "code",
   "execution_count": 113,
   "id": "7211e42d",
   "metadata": {
    "execution": {
     "iopub.execute_input": "2022-02-26T19:54:03.200710Z",
     "iopub.status.busy": "2022-02-26T19:54:03.198982Z",
     "iopub.status.idle": "2022-02-26T19:54:03.498128Z",
     "shell.execute_reply": "2022-02-26T19:54:03.497568Z",
     "shell.execute_reply.started": "2022-02-26T19:50:07.772377Z"
    },
    "papermill": {
     "duration": 0.390648,
     "end_time": "2022-02-26T19:54:03.498277",
     "exception": false,
     "start_time": "2022-02-26T19:54:03.107629",
     "status": "completed"
    },
    "tags": []
   },
   "outputs": [
    {
     "data": {
      "text/plain": [
       "<AxesSubplot:>"
      ]
     },
     "execution_count": 113,
     "metadata": {},
     "output_type": "execute_result"
    },
    {
     "data": {
      "image/png": "[encoded data removed]",
      "text/plain": [
       "<Figure size 432x288 with 1 Axes>"
      ]
     },
     "metadata": {
      "needs_background": "light"
     },
     "output_type": "display_data"
    }
   ],
   "source": [
    "#Merging two columns into one for efficiency- Feature extraction\n",
    "df['TotalIncome'] = df['ApplicantIncome'] + df['CoapplicantIncome']\n",
    "df['TotalIncome'].hist(bins=50)"
   ]
  },
  {
   "cell_type": "code",
   "execution_count": 114,
   "id": "a49abb69",
   "metadata": {
    "execution": {
     "iopub.execute_input": "2022-02-26T19:54:03.638698Z",
     "iopub.status.busy": "2022-02-26T19:54:03.638047Z",
     "iopub.status.idle": "2022-02-26T19:54:03.888331Z",
     "shell.execute_reply": "2022-02-26T19:54:03.887773Z",
     "shell.execute_reply.started": "2022-02-26T19:50:08.116860Z"
    },
    "papermill": {
     "duration": 0.323969,
     "end_time": "2022-02-26T19:54:03.888493",
     "exception": false,
     "start_time": "2022-02-26T19:54:03.564524",
     "status": "completed"
    },
    "tags": []
   },
   "outputs": [
    {
     "data": {
      "text/plain": [
       "<AxesSubplot:>"
      ]
     },
     "execution_count": 114,
     "metadata": {},
     "output_type": "execute_result"
    },
    {
     "data": {
      "image/png": "[encoded data removed]",
      "text/plain": [
       "<Figure size 432x288 with 1 Axes>"
      ]
     },
     "metadata": {
      "needs_background": "light"
     },
     "output_type": "display_data"
    }
   ],
   "source": [
    "#using log-trasformation to normalise the data.\n",
    "df['TotalIncome_log'] = np.log(df['TotalIncome'])\n",
    "df['TotalIncome_log'].hist(bins=20)\n",
    "#DATA MUNGING COMPLETED"
   ]
  },
  {
   "cell_type": "code",
   "execution_count": 115,
   "id": "f70c6dc9",
   "metadata": {
    "execution": {
     "iopub.execute_input": "2022-02-26T19:54:04.029647Z",
     "iopub.status.busy": "2022-02-26T19:54:04.028431Z",
     "iopub.status.idle": "2022-02-26T19:54:04.032588Z",
     "shell.execute_reply": "2022-02-26T19:54:04.032051Z",
     "shell.execute_reply.started": "2022-02-26T19:50:08.392992Z"
    },
    "papermill": {
     "duration": 0.076728,
     "end_time": "2022-02-26T19:54:04.032724",
     "exception": false,
     "start_time": "2022-02-26T19:54:03.955996",
     "status": "completed"
    },
    "tags": []
   },
   "outputs": [],
   "source": [
    "#MODELLING using scikit-learn"
   ]
  },
  {
   "cell_type": "code",
   "execution_count": 116,
   "id": "3985546a",
   "metadata": {
    "execution": {
     "iopub.execute_input": "2022-02-26T19:54:04.175606Z",
     "iopub.status.busy": "2022-02-26T19:54:04.174489Z",
     "iopub.status.idle": "2022-02-26T19:54:04.180944Z",
     "shell.execute_reply": "2022-02-26T19:54:04.181670Z",
     "shell.execute_reply.started": "2022-02-26T19:50:08.398491Z"
    },
    "papermill": {
     "duration": 0.081396,
     "end_time": "2022-02-26T19:54:04.181923",
     "exception": false,
     "start_time": "2022-02-26T19:54:04.100527",
     "status": "completed"
    },
    "tags": []
   },
   "outputs": [
    {
     "data": {
      "text/plain": [
       "Loan_ID               object\n",
       "Gender                object\n",
       "Married               object\n",
       "Dependents            object\n",
       "Education             object\n",
       "Self_Employed         object\n",
       "ApplicantIncome        int64\n",
       "CoapplicantIncome    float64\n",
       "LoanAmount           float64\n",
       "Loan_Amount_Term      object\n",
       "Credit_History        object\n",
       "Property_Area         object\n",
       "Loan_Status           object\n",
       "LoanAmount_log       float64\n",
       "TotalIncome          float64\n",
       "TotalIncome_log      float64\n",
       "dtype: object"
      ]
     },
     "execution_count": 116,
     "metadata": {},
     "output_type": "execute_result"
    }
   ],
   "source": [
    "var_mod = ['Gender','Married','Dependents','Education','Self_Employed','Property_Area','Loan_Status']\n",
    "df.dtypes"
   ]
  },
  {
   "cell_type": "code",
   "execution_count": 117,
   "id": "e5b0df29",
   "metadata": {
    "execution": {
     "iopub.execute_input": "2022-02-26T19:54:04.322170Z",
     "iopub.status.busy": "2022-02-26T19:54:04.321205Z",
     "iopub.status.idle": "2022-02-26T19:54:04.330354Z",
     "shell.execute_reply": "2022-02-26T19:54:04.330903Z",
     "shell.execute_reply.started": "2022-02-26T19:50:08.416182Z"
    },
    "papermill": {
     "duration": 0.080038,
     "end_time": "2022-02-26T19:54:04.331079",
     "exception": false,
     "start_time": "2022-02-26T19:54:04.251041",
     "status": "completed"
    },
    "tags": []
   },
   "outputs": [
    {
     "data": {
      "text/plain": [
       "Loan_ID              0\n",
       "Gender               0\n",
       "Married              0\n",
       "Dependents           0\n",
       "Education            0\n",
       "Self_Employed        0\n",
       "ApplicantIncome      0\n",
       "CoapplicantIncome    0\n",
       "LoanAmount           0\n",
       "Loan_Amount_Term     0\n",
       "Credit_History       0\n",
       "Property_Area        0\n",
       "Loan_Status          0\n",
       "LoanAmount_log       0\n",
       "TotalIncome          0\n",
       "TotalIncome_log      0\n",
       "dtype: int64"
      ]
     },
     "execution_count": 117,
     "metadata": {},
     "output_type": "execute_result"
    }
   ],
   "source": [
    "df.isnull().sum() \n",
    "#to check whether any NaN values are present."
   ]
  },
  {
   "cell_type": "code",
   "execution_count": 118,
   "id": "d4d17813",
   "metadata": {
    "execution": {
     "iopub.execute_input": "2022-02-26T19:54:04.470190Z",
     "iopub.status.busy": "2022-02-26T19:54:04.469347Z",
     "iopub.status.idle": "2022-02-26T19:54:05.527276Z",
     "shell.execute_reply": "2022-02-26T19:54:05.526718Z",
     "shell.execute_reply.started": "2022-02-26T19:50:08.436493Z"
    },
    "papermill": {
     "duration": 1.128625,
     "end_time": "2022-02-26T19:54:05.527416",
     "exception": false,
     "start_time": "2022-02-26T19:54:04.398791",
     "status": "completed"
    },
    "tags": []
   },
   "outputs": [
    {
     "data": {
      "text/plain": [
       "Loan_ID               object\n",
       "Gender                 int32\n",
       "Married                int32\n",
       "Dependents             int32\n",
       "Education              int32\n",
       "Self_Employed          int32\n",
       "ApplicantIncome        int64\n",
       "CoapplicantIncome    float64\n",
       "LoanAmount           float64\n",
       "Loan_Amount_Term      object\n",
       "Credit_History        object\n",
       "Property_Area          int32\n",
       "Loan_Status            int32\n",
       "LoanAmount_log       float64\n",
       "TotalIncome          float64\n",
       "TotalIncome_log      float64\n",
       "dtype: object"
      ]
     },
     "execution_count": 118,
     "metadata": {},
     "output_type": "execute_result"
    }
   ],
   "source": [
    "from sklearn.preprocessing import LabelEncoder\n",
    "\n",
    "le = LabelEncoder()\n",
    "for i in var_mod:\n",
    "    df[i] = le.ﬁt_transform(df[i].astype(str))\n",
    "df.dtypes"
   ]
  },
  {
   "cell_type": "code",
   "execution_count": 119,
   "id": "b820c149",
   "metadata": {
    "execution": {
     "iopub.execute_input": "2022-02-26T19:54:05.669272Z",
     "iopub.status.busy": "2022-02-26T19:54:05.668593Z",
     "iopub.status.idle": "2022-02-26T19:54:05.693518Z",
     "shell.execute_reply": "2022-02-26T19:54:05.694041Z",
     "shell.execute_reply.started": "2022-02-26T19:50:09.591391Z"
    },
    "papermill": {
     "duration": 0.097997,
     "end_time": "2022-02-26T19:54:05.694210",
     "exception": false,
     "start_time": "2022-02-26T19:54:05.596213",
     "status": "completed"
    },
    "tags": []
   },
   "outputs": [
    {
     "data": {
      "text/html": [
       "<div>\n",
       "<style scoped>\n",
       "    .dataframe tbody tr th:only-of-type {\n",
       "        vertical-align: middle;\n",
       "    }\n",
       "\n",
       "    .dataframe tbody tr th {\n",
       "        vertical-align: top;\n",
       "    }\n",
       "\n",
       "    .dataframe thead th {\n",
       "        text-align: right;\n",
       "    }\n",
       "</style>\n",
       "<table border=\"1\" class=\"dataframe\">\n",
       "  <thead>\n",
       "    <tr style=\"text-align: right;\">\n",
       "      <th></th>\n",
       "      <th>Loan_ID</th>\n",
       "      <th>Gender</th>\n",
       "      <th>Married</th>\n",
       "      <th>Dependents</th>\n",
       "      <th>Education</th>\n",
       "      <th>Self_Employed</th>\n",
       "      <th>ApplicantIncome</th>\n",
       "      <th>CoapplicantIncome</th>\n",
       "      <th>LoanAmount</th>\n",
       "      <th>Loan_Amount_Term</th>\n",
       "      <th>Credit_History</th>\n",
       "      <th>Property_Area</th>\n",
       "      <th>Loan_Status</th>\n",
       "      <th>LoanAmount_log</th>\n",
       "      <th>TotalIncome</th>\n",
       "      <th>TotalIncome_log</th>\n",
       "    </tr>\n",
       "  </thead>\n",
       "  <tbody>\n",
       "    <tr>\n",
       "      <th>0</th>\n",
       "      <td>LP001002</td>\n",
       "      <td>1</td>\n",
       "      <td>0</td>\n",
       "      <td>0</td>\n",
       "      <td>0</td>\n",
       "      <td>0</td>\n",
       "      <td>5849</td>\n",
       "      <td>0.0</td>\n",
       "      <td>146.412162</td>\n",
       "      <td>360.0</td>\n",
       "      <td>1.0</td>\n",
       "      <td>2</td>\n",
       "      <td>1</td>\n",
       "      <td>4.986426</td>\n",
       "      <td>5849.0</td>\n",
       "      <td>8.674026</td>\n",
       "    </tr>\n",
       "    <tr>\n",
       "      <th>1</th>\n",
       "      <td>LP001003</td>\n",
       "      <td>1</td>\n",
       "      <td>1</td>\n",
       "      <td>1</td>\n",
       "      <td>0</td>\n",
       "      <td>0</td>\n",
       "      <td>4583</td>\n",
       "      <td>1508.0</td>\n",
       "      <td>128.000000</td>\n",
       "      <td>360.0</td>\n",
       "      <td>1.0</td>\n",
       "      <td>0</td>\n",
       "      <td>0</td>\n",
       "      <td>4.852030</td>\n",
       "      <td>6091.0</td>\n",
       "      <td>8.714568</td>\n",
       "    </tr>\n",
       "    <tr>\n",
       "      <th>2</th>\n",
       "      <td>LP001005</td>\n",
       "      <td>1</td>\n",
       "      <td>1</td>\n",
       "      <td>0</td>\n",
       "      <td>0</td>\n",
       "      <td>1</td>\n",
       "      <td>3000</td>\n",
       "      <td>0.0</td>\n",
       "      <td>66.000000</td>\n",
       "      <td>360.0</td>\n",
       "      <td>1.0</td>\n",
       "      <td>2</td>\n",
       "      <td>1</td>\n",
       "      <td>4.189655</td>\n",
       "      <td>3000.0</td>\n",
       "      <td>8.006368</td>\n",
       "    </tr>\n",
       "    <tr>\n",
       "      <th>3</th>\n",
       "      <td>LP001006</td>\n",
       "      <td>1</td>\n",
       "      <td>1</td>\n",
       "      <td>0</td>\n",
       "      <td>1</td>\n",
       "      <td>0</td>\n",
       "      <td>2583</td>\n",
       "      <td>2358.0</td>\n",
       "      <td>120.000000</td>\n",
       "      <td>360.0</td>\n",
       "      <td>1.0</td>\n",
       "      <td>2</td>\n",
       "      <td>1</td>\n",
       "      <td>4.787492</td>\n",
       "      <td>4941.0</td>\n",
       "      <td>8.505323</td>\n",
       "    </tr>\n",
       "    <tr>\n",
       "      <th>4</th>\n",
       "      <td>LP001008</td>\n",
       "      <td>1</td>\n",
       "      <td>0</td>\n",
       "      <td>0</td>\n",
       "      <td>0</td>\n",
       "      <td>0</td>\n",
       "      <td>6000</td>\n",
       "      <td>0.0</td>\n",
       "      <td>141.000000</td>\n",
       "      <td>360.0</td>\n",
       "      <td>1.0</td>\n",
       "      <td>2</td>\n",
       "      <td>1</td>\n",
       "      <td>4.948760</td>\n",
       "      <td>6000.0</td>\n",
       "      <td>8.699515</td>\n",
       "    </tr>\n",
       "  </tbody>\n",
       "</table>\n",
       "</div>"
      ],
      "text/plain": [
       "    Loan_ID  Gender  Married  Dependents  Education  Self_Employed  \\\n",
       "0  LP001002       1        0           0          0              0   \n",
       "1  LP001003       1        1           1          0              0   \n",
       "2  LP001005       1        1           0          0              1   \n",
       "3  LP001006       1        1           0          1              0   \n",
       "4  LP001008       1        0           0          0              0   \n",
       "\n",
       "   ApplicantIncome  CoapplicantIncome  LoanAmount Loan_Amount_Term  \\\n",
       "0             5849                0.0  146.412162            360.0   \n",
       "1             4583             1508.0  128.000000            360.0   \n",
       "2             3000                0.0   66.000000            360.0   \n",
       "3             2583             2358.0  120.000000            360.0   \n",
       "4             6000                0.0  141.000000            360.0   \n",
       "\n",
       "  Credit_History  Property_Area  Loan_Status  LoanAmount_log  TotalIncome  \\\n",
       "0            1.0              2            1        4.986426       5849.0   \n",
       "1            1.0              0            0        4.852030       6091.0   \n",
       "2            1.0              2            1        4.189655       3000.0   \n",
       "3            1.0              2            1        4.787492       4941.0   \n",
       "4            1.0              2            1        4.948760       6000.0   \n",
       "\n",
       "   TotalIncome_log  \n",
       "0         8.674026  \n",
       "1         8.714568  \n",
       "2         8.006368  \n",
       "3         8.505323  \n",
       "4         8.699515  "
      ]
     },
     "execution_count": 119,
     "metadata": {},
     "output_type": "execute_result"
    }
   ],
   "source": [
    "df.head()"
   ]
  },
  {
   "cell_type": "code",
   "execution_count": 120,
   "id": "3e555bfa",
   "metadata": {
    "scrolled": false
   },
   "outputs": [
    {
     "data": {
      "image/png": "[encoded data removed]",
      "text/plain": [
       "<Figure size 936x576 with 2 Axes>"
      ]
     },
     "metadata": {
      "needs_background": "light"
     },
     "output_type": "display_data"
    }
   ],
   "source": [
    "#Correlation plot\n",
    "# Quantify correlations\n",
    "corr = df.corr()\n",
    "plt.figure(figsize = (13, 8))\n",
    "sns.heatmap(corr, cmap='RdYlGn', annot = True, center = 0)\n",
    "plt.title('Correlation matrix', fontsize = 15, color = 'darkgreen')\n",
    "plt.show()"
   ]
  },
  {
   "cell_type": "raw",
   "id": "daad0229",
   "metadata": {},
   "source": [
    "More greener high positive correlation\n",
    "More orange high negative correlation"
   ]
  },
  {
   "cell_type": "markdown",
   "id": "f9548b3e",
   "metadata": {},
   "source": [
    "## Modeling"
   ]
  },
  {
   "cell_type": "code",
   "execution_count": 121,
   "id": "45e2499e",
   "metadata": {
    "execution": {
     "iopub.execute_input": "2022-02-26T19:54:05.840041Z",
     "iopub.status.busy": "2022-02-26T19:54:05.839179Z",
     "iopub.status.idle": "2022-02-26T19:54:06.065399Z",
     "shell.execute_reply": "2022-02-26T19:54:06.065954Z",
     "shell.execute_reply.started": "2022-02-26T19:50:09.623132Z"
    },
    "papermill": {
     "duration": 0.301385,
     "end_time": "2022-02-26T19:54:06.066127",
     "exception": false,
     "start_time": "2022-02-26T19:54:05.764742",
     "status": "completed"
    },
    "tags": []
   },
   "outputs": [],
   "source": [
    "#importing ML Algorithms\n",
    "from sklearn.linear_model import LinearRegression\n",
    "from sklearn.ensemble import RandomForestRegressor \n",
    "from sklearn import metrics "
   ]
  },
  {
   "cell_type": "code",
   "execution_count": 122,
   "id": "43182690",
   "metadata": {},
   "outputs": [
    {
     "data": {
      "text/plain": [
       "Index(['Loan_ID', 'Gender', 'Married', 'Dependents', 'Education',\n",
       "       'Self_Employed', 'ApplicantIncome', 'CoapplicantIncome', 'LoanAmount',\n",
       "       'Loan_Amount_Term', 'Credit_History', 'Property_Area', 'Loan_Status',\n",
       "       'LoanAmount_log', 'TotalIncome', 'TotalIncome_log'],\n",
       "      dtype='object')"
      ]
     },
     "execution_count": 122,
     "metadata": {},
     "output_type": "execute_result"
    }
   ],
   "source": [
    "df.columns"
   ]
  },
  {
   "cell_type": "code",
   "execution_count": 123,
   "id": "fc4ad2e3",
   "metadata": {},
   "outputs": [],
   "source": [
    "xfeatures = ['Gender', 'Married', 'Dependents', 'Education',\n",
    "       'Self_Employed', 'ApplicantIncome', 'CoapplicantIncome',\n",
    "       'Loan_Amount_Term', 'Credit_History', 'Property_Area', 'Loan_Status',\n",
    "       'LoanAmount_log', 'TotalIncome', 'TotalIncome_log']"
   ]
  },
  {
   "cell_type": "code",
   "execution_count": 124,
   "id": "760d56f5",
   "metadata": {},
   "outputs": [],
   "source": [
    "yfeature = ['LoanAmount']"
   ]
  },
  {
   "cell_type": "code",
   "execution_count": 125,
   "id": "3c80f25a",
   "metadata": {},
   "outputs": [],
   "source": [
    "X = df[xfeatures]\n",
    "y = df[yfeature]"
   ]
  },
  {
   "cell_type": "code",
   "execution_count": 127,
   "id": "c9743fe1",
   "metadata": {},
   "outputs": [
    {
     "data": {
      "text/plain": [
       "((614, 14), (614, 1))"
      ]
     },
     "execution_count": 127,
     "metadata": {},
     "output_type": "execute_result"
    }
   ],
   "source": [
    "X.shape, y.shape"
   ]
  },
  {
   "cell_type": "code",
   "execution_count": 131,
   "id": "d96c5fcc",
   "metadata": {},
   "outputs": [],
   "source": [
    "# Training and test splits\n",
    "# Split train_data to train and test splits\n",
    "# Test : 20% Train : 80%\n",
    "from sklearn.model_selection import train_test_split\n",
    "\n",
    "X_train, X_test, y_train, y_test = train_test_split(X, y, test_size = 0.2, random_state=42)"
   ]
  },
  {
   "cell_type": "markdown",
   "id": "7cbe9262",
   "metadata": {},
   "source": [
    "## Linear Regressor"
   ]
  },
  {
   "cell_type": "code",
   "execution_count": 137,
   "id": "c67536d3",
   "metadata": {
    "execution": {
     "iopub.execute_input": "2022-02-26T19:54:07.098779Z",
     "iopub.status.busy": "2022-02-26T19:54:07.098106Z",
     "iopub.status.idle": "2022-02-26T19:54:08.494034Z",
     "shell.execute_reply": "2022-02-26T19:54:08.493459Z",
     "shell.execute_reply.started": "2022-02-26T19:51:23.901775Z"
    },
    "papermill": {
     "duration": 1.475695,
     "end_time": "2022-02-26T19:54:08.494201",
     "exception": false,
     "start_time": "2022-02-26T19:54:07.018506",
     "status": "completed"
    },
    "tags": []
   },
   "outputs": [
    {
     "data": {
      "text/plain": [
       "LinearRegression()"
      ]
     },
     "execution_count": 137,
     "metadata": {},
     "output_type": "execute_result"
    }
   ],
   "source": [
    "np.random.seed(42)\n",
    "model = LinearRegression()\n",
    "model.fit(X_train, y_train)"
   ]
  },
  {
   "cell_type": "code",
   "execution_count": 138,
   "id": "b9892b6a",
   "metadata": {},
   "outputs": [],
   "source": [
    "#Prediction on test data\n",
    "ypredicted = model.predict(X_test)"
   ]
  },
  {
   "cell_type": "code",
   "execution_count": 139,
   "id": "c6208d1b",
   "metadata": {},
   "outputs": [
    {
     "data": {
      "text/plain": [
       "919.4291884746107"
      ]
     },
     "execution_count": 139,
     "metadata": {},
     "output_type": "execute_result"
    }
   ],
   "source": [
    "metrics.mean_squared_error(y_test, ypredicted)"
   ]
  },
  {
   "cell_type": "code",
   "execution_count": 140,
   "id": "beb4f09f",
   "metadata": {},
   "outputs": [
    {
     "data": {
      "text/plain": [
       "15.222216776531596"
      ]
     },
     "execution_count": 140,
     "metadata": {},
     "output_type": "execute_result"
    }
   ],
   "source": [
    "metrics.mean_absolute_error(y_val, ypredicted)"
   ]
  },
  {
   "cell_type": "markdown",
   "id": "abe1954c",
   "metadata": {},
   "source": [
    "## RandomForestRegressor"
   ]
  },
  {
   "cell_type": "code",
   "execution_count": 155,
   "id": "bfb7992d",
   "metadata": {},
   "outputs": [
    {
     "data": {
      "text/plain": [
       "RandomForestRegressor(n_estimators=50)"
      ]
     },
     "execution_count": 155,
     "metadata": {},
     "output_type": "execute_result"
    }
   ],
   "source": [
    "np.random.seed(42)\n",
    "rfr = RandomForestRegressor(n_estimators=50)\n",
    "rfr.fit(X_train, y_train)"
   ]
  },
  {
   "cell_type": "code",
   "execution_count": 156,
   "id": "9b177b9b",
   "metadata": {},
   "outputs": [
    {
     "data": {
      "text/plain": [
       "50"
      ]
     },
     "execution_count": 156,
     "metadata": {},
     "output_type": "execute_result"
    }
   ],
   "source": [
    "rfr.n_estimators"
   ]
  },
  {
   "cell_type": "code",
   "execution_count": 157,
   "id": "500caad3",
   "metadata": {},
   "outputs": [],
   "source": [
    "ypredicted = rfr.predict(X_val)"
   ]
  },
  {
   "cell_type": "code",
   "execution_count": 158,
   "id": "833784fa",
   "metadata": {},
   "outputs": [
    {
     "data": {
      "text/plain": [
       "14.666620138876528"
      ]
     },
     "execution_count": 158,
     "metadata": {},
     "output_type": "execute_result"
    }
   ],
   "source": [
    "metrics.mean_squared_error(y_val, ypredicted)"
   ]
  },
  {
   "cell_type": "code",
   "execution_count": 159,
   "id": "c84ebf8f",
   "metadata": {},
   "outputs": [
    {
     "data": {
      "text/plain": [
       "1.0888694792353355"
      ]
     },
     "execution_count": 159,
     "metadata": {},
     "output_type": "execute_result"
    }
   ],
   "source": [
    "metrics.mean_absolute_error(y_val, ypredicted)"
   ]
  },
  {
   "cell_type": "raw",
   "id": "f173fbdb",
   "metadata": {},
   "source": [
    "Therefore : Random forest regressor generalizes much better on train data"
   ]
  },
  {
   "cell_type": "code",
   "execution_count": 160,
   "id": "eaa97549",
   "metadata": {},
   "outputs": [],
   "source": [
    "#Experimental\n",
    " #- Changing the number trees in random forest from 100 to 50 reduces the error rate\n",
    " # - Removing multicolinearity improves the performance - [Applicants income - remove]"
   ]
  },
  {
   "cell_type": "raw",
   "id": "6382e401",
   "metadata": {},
   "source": [
    "#Results:\n",
    " Random forest Regressor\n",
    "    params : {n_estimators = 100}\n",
    " mse = \n",
    " mae = \n",
    " \n",
    " Linear Regressor \n",
    " "
   ]
  },
  {
   "cell_type": "code",
   "execution_count": null,
   "id": "8da03b8b",
   "metadata": {},
   "outputs": [],
   "source": []
  },
  {
   "cell_type": "code",
   "execution_count": null,
   "id": "203ac5a4",
   "metadata": {
    "papermill": {
     "duration": 0.072167,
     "end_time": "2022-02-26T19:54:09.298902",
     "exception": false,
     "start_time": "2022-02-26T19:54:09.226735",
     "status": "completed"
    },
    "tags": []
   },
   "outputs": [],
   "source": []
  }
 ],
 "metadata": {
  "kernelspec": {
   "display_name": "Python 3 (ipykernel)",
   "language": "python",
   "name": "python3"
  },
  "language_info": {
   "codemirror_mode": {
    "name": "ipython",
    "version": 3
   },
   "file_extension": ".py",
   "mimetype": "text/x-python",
   "name": "python",
   "nbconvert_exporter": "python",
   "pygments_lexer": "ipython3",
   "version": "3.9.7"
  },
  "papermill": {
   "default_parameters": {},
   "duration": 23.274527,
   "end_time": "2022-02-26T19:54:10.182406",
   "environment_variables": {},
   "exception": null,
   "input_path": "__notebook__.ipynb",
   "output_path": "__notebook__.ipynb",
   "parameters": {},
   "start_time": "2022-02-26T19:53:46.907879",
   "version": "2.3.3"
  }
 },
 "nbformat": 4,
 "nbformat_minor": 5
}
